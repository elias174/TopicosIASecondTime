{
 "cells": [
  {
   "cell_type": "code",
   "execution_count": 1,
   "metadata": {},
   "outputs": [
    {
     "name": "stdout",
     "output_type": "stream",
     "text": [
      "[-0.03899986  0.12170539 -0.25601221 -0.3511236  -0.10214466  0.54355179]\n"
     ]
    }
   ],
   "source": [
    "import pandas as pd\n",
    "import numpy as np\n",
    "import matplotlib.pyplot as plt\n",
    "\n",
    "# X_train = pd.read_csv('train_ex1data1.csv')\n",
    "# y_train = pd.read_csv('y_train_ex1data1.csv')\n",
    "# X_test  = pd.read_csv('test_ex1data1.csv')\n",
    "# y_test  = pd.read_csv('y_test_ex1data1.csv')\n",
    "#\n",
    "#\n",
    "# X_train = X_train.iloc[:,:]\n",
    "# y_train = y_train.iloc[:,0]\n",
    "# X_test  = X_test.iloc[:,:]\n",
    "# y_test  = y_test.iloc[:,0]\n",
    "#\n",
    "#data = pd.read_csv('petrol_consumption.csv')\n",
    "#msk = np.random.rand(len(data)) < 0.8\n",
    "train = pd.read_csv('file_train_petrol.csv')\n",
    "test = pd.read_csv('file_test_petrol.csv')\n",
    "\n",
    "#train.to_csv('file_train_petrol.csv')\n",
    "#test.to_csv('file_test_petrol.csv')\n",
    "\n",
    "\n",
    "X_train = train.iloc[:, train.columns != 'Petrol_Consumption']\n",
    "y_train = train.iloc[:,-1]\n",
    "\n",
    "X_test = test.iloc[:, test.columns != 'Petrol_Consumption']\n",
    "y_test = test.iloc[:,-1]\n",
    "\n",
    "n_exa_train =len(y_train)\n",
    "n_exa_test =len(y_test)\n",
    "\n",
    "\n",
    "X_media=np.concatenate((X_train,X_test),axis=0).mean(axis=0)\n",
    "X_std=np.concatenate((X_train,X_test),axis=0).std(axis=0)\n",
    "y_media=np.concatenate((y_train,y_test),axis=0).mean()\n",
    "y_std=np.concatenate((y_train,y_test),axis=0).std()\n",
    "\n",
    "X_train = (X_train - X_media)/X_std\n",
    "y_train = (y_train - y_media)/y_std\n",
    "X_test = (X_test - X_media)/X_std\n",
    "y_test = (y_test - y_media)/y_std\n",
    "\n",
    "X_train  = np.concatenate((np.ones([n_exa_train,1]),X_train ), axis=1)\n",
    "X_test = np.concatenate((np.ones([n_exa_test,1]),X_test ), axis=1)\n",
    "n_features = X_train.shape[1]\n",
    "\n",
    "orig_theta = np.dot(np.dot(np.linalg.inv(np.dot(np.transpose(X_train), X_train)), np.transpose(X_train)), y_train)\n",
    "print(orig_theta)"
   ]
  }
 ],
 "metadata": {
  "kernelspec": {
   "display_name": "Python 3",
   "language": "python",
   "name": "python3"
  },
  "language_info": {
   "codemirror_mode": {
    "name": "ipython",
    "version": 3
   },
   "file_extension": ".py",
   "mimetype": "text/x-python",
   "name": "python",
   "nbconvert_exporter": "python",
   "pygments_lexer": "ipython3",
   "version": "3.7.2"
  }
 },
 "nbformat": 4,
 "nbformat_minor": 2
}
